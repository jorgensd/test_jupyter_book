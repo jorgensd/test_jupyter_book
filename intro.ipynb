{
 "cells": [
  {
   "cell_type": "markdown",
   "id": "5b2639be",
   "metadata": {
    "lines_to_next_cell": 2
   },
   "source": [
    "# Welcome to your Jupyter Book"
   ]
  },
  {
   "cell_type": "code",
   "execution_count": null,
   "id": "2f605261",
   "metadata": {},
   "outputs": [],
   "source": [
    "import pyvista as pv"
   ]
  },
  {
   "cell_type": "code",
   "execution_count": null,
   "id": "65cc7974",
   "metadata": {},
   "outputs": [],
   "source": [
    "mesh = pv.Sphere()\n",
    "mesh.plot()"
   ]
  },
  {
   "cell_type": "code",
   "execution_count": null,
   "id": "91b84ccd",
   "metadata": {},
   "outputs": [],
   "source": [
    "print(\"HLLOssss\")"
   ]
  }
 ],
 "metadata": {
  "jupytext": {
   "cell_metadata_filter": "-all",
   "main_language": "python",
   "notebook_metadata_filter": "-all"
  }
 },
 "nbformat": 4,
 "nbformat_minor": 5
}
